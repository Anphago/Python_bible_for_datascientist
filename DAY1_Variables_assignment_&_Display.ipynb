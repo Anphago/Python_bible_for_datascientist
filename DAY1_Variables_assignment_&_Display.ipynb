{
  "nbformat": 4,
  "nbformat_minor": 0,
  "metadata": {
    "colab": {
      "name": "DAY1_Variables assignment & Display.ipynb",
      "provenance": [],
      "collapsed_sections": [],
      "authorship_tag": "ABX9TyPQ7ks3wjLsRdmqVEA1FfmE",
      "include_colab_link": true
    },
    "kernelspec": {
      "name": "python3",
      "display_name": "Python 3"
    },
    "language_info": {
      "name": "python"
    }
  },
  "cells": [
    {
      "cell_type": "markdown",
      "metadata": {
        "id": "view-in-github",
        "colab_type": "text"
      },
      "source": [
        "<a href=\"https://colab.research.google.com/github/Anphago/Python_bible_for_datascientist/blob/main/DAY1_Variables_assignment_%26_Display.ipynb\" target=\"_parent\"><img src=\"https://colab.research.google.com/assets/colab-badge.svg\" alt=\"Open In Colab\"/></a>"
      ]
    },
    {
      "cell_type": "markdown",
      "metadata": {
        "id": "hKeyfyZ5jdny"
      },
      "source": [
        "# Day1 변수 선언과 정보 출력"
      ]
    },
    {
      "cell_type": "markdown",
      "metadata": {
        "id": "0Rm5Y_158sbX"
      },
      "source": [
        "## 변수 할당과 데이터 유형 알아보기\n",
        "\n",
        "> * 변수란, 무언가의 정보(데이터)를 담기위한 하나의 그릇과 같음\n",
        "> * 변수명이란, 정보가 담긴 그릇에 이름을 붙여주는 것임\n",
        "> * 변수에는 정보가 있을 수 있고, 없을 수 있음\n",
        "> * 변수에 정보 할당은 \"*=*\"를 사용 함"
      ]
    },
    {
      "cell_type": "code",
      "metadata": {
        "id": "JXT7ekgX5c6t"
      },
      "source": [
        "# No1. 변수에 숫자 정보를 할당 해 보기\n",
        "\n",
        "x = 123  # x라 불리는 변수에 123의 숫자 정보를 할당"
      ],
      "execution_count": null,
      "outputs": []
    },
    {
      "cell_type": "code",
      "metadata": {
        "colab": {
          "base_uri": "https://localhost:8080/"
        },
        "id": "HYimJmCA-aSC",
        "outputId": "513f0b29-5fde-4e0f-e73b-905ac56e9b16"
      },
      "source": [
        "print(x)  # x변수에 담긴 정보를 확인해 보기"
      ],
      "execution_count": null,
      "outputs": [
        {
          "output_type": "stream",
          "text": [
            "123\n"
          ],
          "name": "stdout"
        }
      ]
    },
    {
      "cell_type": "markdown",
      "metadata": {
        "id": "3xnCs28h-JQx"
      },
      "source": [
        "## 변수를 선언하는 다양한 방법"
      ]
    },
    {
      "cell_type": "code",
      "metadata": {
        "id": "PeuvOSTm-OqP",
        "colab": {
          "base_uri": "https://localhost:8080/"
        },
        "outputId": "b8f88946-2252-4054-dd56-2e08b3765bb8"
      },
      "source": [
        "# No2. 한개의 변수의 정보를 변경하기\n",
        "\n",
        "code_name = \"Hello World, Python\"\n",
        "code_name = \"Anphago\"  # \"Hello World, Python\"의 정보를 버리고 \"Anphgo\" 정보를 넣음\n",
        "\n",
        "print(\"code_name 변수에 저장된 정보는 %s 입니다.\" %code_name)"
      ],
      "execution_count": null,
      "outputs": [
        {
          "output_type": "stream",
          "text": [
            "code_name 변수에 저장된 정보는 Anphago 입니다.\n"
          ],
          "name": "stdout"
        }
      ]
    },
    {
      "cell_type": "code",
      "metadata": {
        "id": "24RLQB4hCfR8",
        "colab": {
          "base_uri": "https://localhost:8080/"
        },
        "outputId": "c717582e-cc10-4f27-fbef-cda00feffeea"
      },
      "source": [
        "# No3. 한 줄에 여러개 변수를 선언 후 선언된 변수 수 만큼 정보 할당하기\n",
        "\n",
        "stud_Name, stud_Number, stud_Maile = \"Anphago\", 2018521506, \"admin@andar.ac.kr\"\n",
        "\n",
        "print(\"Y 대학교 학생 이름은 %s 입니다. \\n\" %stud_Name)\n",
        "print(\"Y 대학교 학생 이름은 %d 입니다. \\n\" %stud_Number)\n",
        "print(\"Y 대학교 학생 이름은 %s 입니다. \\n\" %stud_Maile)"
      ],
      "execution_count": null,
      "outputs": [
        {
          "output_type": "stream",
          "text": [
            "Y 대학교 학생 이름은 Anphago 입니다. \n",
            "\n",
            "Y 대학교 학생 이름은 2018521506 입니다. \n",
            "\n",
            "Y 대학교 학생 이름은 admin@andar.ac.kr 입니다. \n",
            "\n"
          ],
          "name": "stdout"
        }
      ]
    },
    {
      "cell_type": "code",
      "metadata": {
        "colab": {
          "base_uri": "https://localhost:8080/"
        },
        "id": "1mt7QSpHiNG9",
        "outputId": "680f61c1-a2a5-4dd5-c381-547ba37c0791"
      },
      "source": [
        "# No4. 변수에 변수를 할당하여 동일한 정보 공유하기\n",
        "\n",
        "apply_number = 202157892\n",
        "\n",
        "regist_number = apply_number\n",
        "\n",
        "print('apply_number is %d' %apply_number)\n",
        "print('regist_number is %d' %regist_number)"
      ],
      "execution_count": null,
      "outputs": [
        {
          "output_type": "stream",
          "text": [
            "apply_number is 202157892\n",
            "regist_number is 202157892\n"
          ],
          "name": "stdout"
        }
      ]
    },
    {
      "cell_type": "code",
      "metadata": {
        "id": "lM4SLPQNjyl9"
      },
      "source": [
        "# No5. 변수 삭제\n",
        "\n",
        "andar_data = \"It's pleasure to learn the python\"\n",
        "\n",
        "\n",
        "del andar_data  # del로 변수 삭제하기"
      ],
      "execution_count": null,
      "outputs": []
    },
    {
      "cell_type": "code",
      "metadata": {
        "colab": {
          "base_uri": "https://localhost:8080/"
        },
        "id": "RYLjo-CYzo-x",
        "outputId": "62087c5e-3301-4b0c-af58-dfd5d583bace"
      },
      "source": [
        "# No6. 파이썬 기본 데이터(정수, 실수, 문자, 논리, 바이트) 정보를 변수에 할당\n",
        "\n",
        "str_data = \"Python\"   # 문자열(String)\n",
        "int_data = 1      # 숫자, 정수\n",
        "float_data = 1.1  # 숫자, 부동소숫점\n",
        "bool_data = True  # 특별한 타입: True / False (Boolean)\n",
        "byte_data = b'Hello Python'\n",
        "\n",
        "## type() 함수로 변수의 유형 체크\n",
        "print(\"Data type of str_data is %s\" %type(str_data))\n",
        "print(\"Data type of int_data is %s\" %type(int_data))\n",
        "print(\"Data type of float_data is %s\" %type(float_data))\n",
        "print(\"Data type of bool_data is %s\" %type(bool_data))\n",
        "print(\"Data type of byte_data is %s\" %type(byte_data))"
      ],
      "execution_count": null,
      "outputs": [
        {
          "output_type": "stream",
          "text": [
            "Data type of str_data is <class 'str'>\n",
            "Data type of int_data is <class 'int'>\n",
            "Data type of float_data is <class 'float'>\n",
            "Data type of bool_data is <class 'bool'>\n",
            "Data type of byte_data is <class 'bytes'>\n"
          ],
          "name": "stdout"
        }
      ]
    },
    {
      "cell_type": "code",
      "metadata": {
        "colab": {
          "base_uri": "https://localhost:8080/"
        },
        "id": "kvMnQDg71UPC",
        "outputId": "1591c200-622b-40d6-f9fc-74abbfff9340"
      },
      "source": [
        "# No7. 사칙연산을 변수에 할당\n",
        "\n",
        "PI = 3.14\n",
        "radius = 10\n",
        "\n",
        "diameter = radius * 2\n",
        "\n",
        "print(\"diameter is %d\" %diameter)\n",
        "print(\"circumference is\", radius * 2 * PI)\n",
        "print(\"area is\", PI * (radius ** 2))"
      ],
      "execution_count": null,
      "outputs": [
        {
          "output_type": "stream",
          "text": [
            "diameter is 20\n",
            "circumference is 62.800000000000004\n",
            "area is 314.0\n"
          ],
          "name": "stdout"
        }
      ]
    },
    {
      "cell_type": "markdown",
      "metadata": {
        "id": "EgOcpUirw27c"
      },
      "source": [
        "## Dispaly: using *print*\n",
        "\n",
        "> print(.....)\n",
        "*   print(value, ...., sep=' ', end='\\n', file=sys.stdout, flush=False)\n",
        "\n",
        "    Prints the values to a stream, or to sys.stdout by default.\n",
        "\n",
        "    Optional keyword arguments:\n",
        "\n",
        "    file:  a file-like object (stream); defaults to the current sys.stdout.\n",
        "\n",
        "    sep:   string inserted between values, default a space.\n",
        "\n",
        "    end:   string appended after the last value, default a newline.\n",
        "\n",
        "    flush: whether to forcibly flush the stream.\n",
        "\n",
        "\n",
        "\n"
      ]
    },
    {
      "cell_type": "code",
      "metadata": {
        "colab": {
          "base_uri": "https://localhost:8080/"
        },
        "id": "QZbi3q-T4iUC",
        "outputId": "7943c404-0540-4c00-fa68-b41d59f6cd78"
      },
      "source": [
        "# No9. Print 기본기\n",
        "\n",
        "scription_data = \"Learn Python from Andar\"\n",
        "\n",
        "print(\"Learn Python from Anda\")   # 표현할 내용 출력\n",
        "print(scription_data) # 변수의 정보를 출력\n",
        "print(\"Please, %s\" %scription_data)  # 표현할 내용에 변수 정보를 함께 출력"
      ],
      "execution_count": null,
      "outputs": [
        {
          "output_type": "stream",
          "text": [
            "Learn Python from Anda\n",
            "Learn Python from Andar\n",
            "Please, Learn Python from Andar\n"
          ],
          "name": "stdout"
        }
      ]
    },
    {
      "cell_type": "markdown",
      "metadata": {
        "id": "doamrrBA4fxB"
      },
      "source": [
        "> Formatting Basic 1\n",
        "\n",
        "    % + 서식문자\n",
        "    %d: 정수 정보를 할당\n",
        "    %f: 실수 정보를 할당\n",
        "    %s: 문자 정보를 할당"
      ]
    },
    {
      "cell_type": "code",
      "metadata": {
        "id": "JLsAWxZk2yuB"
      },
      "source": [
        "# No8. \n",
        "\n",
        "print(\"학생의 이름은\", student_Name, \"입니다.\")\n",
        "print(\"학생의 이름은 %s 입니다.\" %student_Name)\n",
        "print(\"학생의 이름은 {0} 입니다.\".format(student_Name)) \n",
        "\n",
        "print(\"학생의 이름은 %s이고, 학번은 %d이며, 생년월일은 %s 입니다.\" %(student_Name, student_Number, student_Birthday))\n",
        "print(\"학생의 이름은 {0}이고, 학번은 {1}이며, 생년월일은 {2} 입니다.\".format(student_Name, student_Number, student_Birthday))\n",
        "\n",
        "print(student_Birthday, sep='.')\n",
        "print(student_Birthday, end = '')\n",
        "print(student_Name)"
      ],
      "execution_count": null,
      "outputs": []
    },
    {
      "cell_type": "code",
      "metadata": {
        "colab": {
          "base_uri": "https://localhost:8080/"
        },
        "id": "yN4pjrgFxazS",
        "outputId": "9e8e5d1f-c191-4e6e-c496-c9c4b1049d1a"
      },
      "source": [
        "\n",
        "precesion_Recall = 89.762777177277\n",
        "\n",
        "print(\"데이터 분석 결과의 재현율은 %0.5f%% 입니다.\" %precesion_Recall)\n",
        "print(\"데이터 분석 결과의 재현율은 %2.0f%% 입니다.\" %precesion_Recall)\n",
        "print(\"데이터 분석 결과의 재현율은 %-30.0f%% 입니다.\" %precesion_Recall)\n",
        "print(\"데이터 분석 결과의 재현율은 %30.0f%% 입니다.\" %precesion_Recall)\n",
        "print(\"데이터 분석 결과의 재현율은 %30.5f%% 입니다.\" %precesion_Recall)"
      ],
      "execution_count": null,
      "outputs": [
        {
          "output_type": "stream",
          "text": [
            "데이터 분석 결과의 재현율은 89.76278% 입니다.\n",
            "데이터 분석 결과의 재현율은 90% 입니다.\n",
            "데이터 분석 결과의 재현율은 90                            % 입니다.\n",
            "데이터 분석 결과의 재현율은                             90% 입니다.\n",
            "데이터 분석 결과의 재현율은                       89.76278% 입니다.\n"
          ],
          "name": "stdout"
        }
      ]
    }
  ]
}